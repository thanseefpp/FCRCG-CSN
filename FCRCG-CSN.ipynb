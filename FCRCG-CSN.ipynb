{
 "cells": [
  {
   "cell_type": "markdown",
   "metadata": {},
   "source": [
    "# Facial Recognition Deep Learning"
   ]
  },
  {
   "cell_type": "markdown",
   "metadata": {},
   "source": [
    "### Installing Dependencies"
   ]
  },
  {
   "cell_type": "code",
   "execution_count": null,
   "metadata": {},
   "outputs": [],
   "source": [
    "# %pip install opencv-python matplotlib tensorflow-macos\n",
    "\n",
    "# tensorflow~=2.6.0 and tensorflow-gpu==2.6.0 for non mac users\n"
   ]
  },
  {
   "cell_type": "markdown",
   "metadata": {},
   "source": [
    "## Importing Libraries"
   ]
  },
  {
   "cell_type": "code",
   "execution_count": null,
   "metadata": {},
   "outputs": [],
   "source": [
    "%%time\n",
    "import numpy as np\n",
    "import cv2\n",
    "import os\n",
    "import random\n",
    "import matplotlib.pyplot as plt\n",
    "import uuid\n",
    "# tensorflow functional apis\n",
    "import tensorflow as tf\n",
    "from tensorflow.keras.models import Model\n",
    "from tensorflow.keras.layers import Layer, Conv2D, Dense, MaxPooling2D, Input, Flatten"
   ]
  },
  {
   "cell_type": "code",
   "execution_count": null,
   "metadata": {},
   "outputs": [],
   "source": [
    "# Input & Output Model Look Like\n",
    "#Model(input=[inputimgage, verificationImage], output=[1,0])\n"
   ]
  },
  {
   "cell_type": "markdown",
   "metadata": {},
   "source": [
    "### GPU GROWTH (LIMIT GPU)\n",
    "##### DON'T USE THIS COMMAND IF YOU DON'T HAVE GPU ON YOUR DEVICE"
   ]
  },
  {
   "cell_type": "code",
   "execution_count": null,
   "metadata": {},
   "outputs": [],
   "source": [
    "# Avoid OOM errors by setting GPU memory consumption growth\n",
    "gpus = tf.config.experimental.list_physical_devices('GPU')\n",
    "\n",
    "for gpu in gpus:\n",
    "    tf.config.experimental.set_memory_growth(gpu, True)\n"
   ]
  },
  {
   "cell_type": "markdown",
   "metadata": {},
   "source": [
    "#### Folder Structure "
   ]
  },
  {
   "cell_type": "code",
   "execution_count": null,
   "metadata": {},
   "outputs": [],
   "source": [
    "# specifying folder path\n",
    "POSITIVE_PATH = os.path.join('data', 'positive')\n",
    "NEGATIVE_PATH = os.path.join('data', 'negative')\n",
    "ANCHOR_PATH = os.path.join('data', 'anchor')\n",
    "# creating the folders\n",
    "# os.makedirs(POSITIVE_PATH)\n",
    "# os.makedirs(NEGATIVE_PATH)\n",
    "# os.makedirs(ANCHOR_PATH)\n"
   ]
  },
  {
   "cell_type": "markdown",
   "metadata": {},
   "source": [
    "## Collect Dataset (Positive and Anchor)"
   ]
  },
  {
   "cell_type": "code",
   "execution_count": null,
   "metadata": {},
   "outputs": [],
   "source": [
    "# decompress Tar GZ file\n",
    "# !tar -xf lfw.tgz\n"
   ]
  },
  {
   "cell_type": "code",
   "execution_count": null,
   "metadata": {},
   "outputs": [],
   "source": [
    "# Move Images to Data/Negative\n",
    "# for dir in os.listdir('lfw'):\n",
    "#     # to get the inside folder paths\n",
    "#     for file in os.listdir(os.path.join('lfw',dir)):\n",
    "#         exact_path = os.path.join('lfw',dir,file)\n",
    "#         new_path = os.path.join(NEGATIVE_PATH,file)\n",
    "#         os.replace(exact_path,new_path)\n"
   ]
  },
  {
   "cell_type": "code",
   "execution_count": null,
   "metadata": {},
   "outputs": [],
   "source": [
    "# !rm -rf lfw\n"
   ]
  },
  {
   "cell_type": "markdown",
   "metadata": {},
   "source": [
    "## Collect Positive and Anchor Class"
   ]
  },
  {
   "cell_type": "markdown",
   "metadata": {},
   "source": [
    "### VideoCapture CV2 "
   ]
  },
  {
   "cell_type": "code",
   "execution_count": null,
   "metadata": {},
   "outputs": [],
   "source": [
    "# Establish a connection to the webcam\n",
    "cap = cv2.VideoCapture(0)\n",
    "\n",
    "#resolution set to base level, 640x480, 1280x720\n",
    "cap.set(3, 640)\n",
    "cap.set(4, 480)\n",
    "\n",
    "while cap.isOpened():\n",
    "    ret, frame = cap.read()\n",
    "\n",
    "    # Cutting down frame to 250x250 px (last we have used (:) for getting all the colors)\n",
    "    frame = frame[120:120+250, 200:200+250, :]\n",
    "\n",
    "    # Collect anchors\n",
    "    if cv2.waitKey(1) & 0xFF == ord('a'):\n",
    "        # Create a Unique file Path\n",
    "        img_name = os.path.join(ANCHOR_PATH, f\"{uuid.uuid1()}.jpg\")\n",
    "        # write image to anchor folder\n",
    "        cv2.imwrite(img_name, frame)\n",
    "\n",
    "    # Collect Positive\n",
    "    if cv2.waitKey(1) & 0xFF == ord('p'):\n",
    "        # Create a Unique file Path\n",
    "        img_name = os.path.join(POSITIVE_PATH, f\"{uuid.uuid1()}.jpg\")\n",
    "        # Write image to positive folder\n",
    "        cv2.imwrite(img_name, frame)\n",
    "\n",
    "    # Display the resulting frame\n",
    "    cv2.imshow('Face Capture', frame)\n",
    "\n",
    "    # Press Q on keyboard to stop recording\n",
    "    if cv2.waitKey(1) & 0xFF == ord('q'):\n",
    "        break\n",
    "        \n",
    "# When everything done, release the video capture and video write objects\n",
    "cap.release()\n",
    "cv2.waitKey(1)\n",
    "# Closes all the frames\n",
    "cv2.destroyAllWindows()\n",
    "cv2.waitKey(1)"
   ]
  },
  {
   "cell_type": "markdown",
   "metadata": {},
   "source": [
    "## Loading and Preprocessing Images"
   ]
  },
  {
   "cell_type": "markdown",
   "metadata": {},
   "source": [
    "#### Get Image Directories"
   ]
  },
  {
   "cell_type": "code",
   "execution_count": null,
   "metadata": {},
   "outputs": [],
   "source": [
    "%%time\n",
    "# Here Collect image from a specific path contain .jpg extension files upto 300\n",
    "anchor = tf.data.Dataset.list_files(ANCHOR_PATH+'/*.jpg').take(300)\n",
    "positive = tf.data.Dataset.list_files(POSITIVE_PATH+'/*.jpg').take(300)\n",
    "negative = tf.data.Dataset.list_files(NEGATIVE_PATH+'/*.jpg').take(300)"
   ]
  },
  {
   "cell_type": "code",
   "execution_count": null,
   "metadata": {},
   "outputs": [],
   "source": [
    "dir_test = anchor.as_numpy_iterator()"
   ]
  },
  {
   "cell_type": "code",
   "execution_count": null,
   "metadata": {},
   "outputs": [],
   "source": [
    "dir_test.next()"
   ]
  },
  {
   "cell_type": "code",
   "execution_count": null,
   "metadata": {},
   "outputs": [],
   "source": []
  }
 ],
 "metadata": {
  "kernelspec": {
   "display_name": "Python 3 (ipykernel)",
   "language": "python",
   "name": "python3"
  },
  "language_info": {
   "codemirror_mode": {
    "name": "ipython",
    "version": 3
   },
   "file_extension": ".py",
   "mimetype": "text/x-python",
   "name": "python",
   "nbconvert_exporter": "python",
   "pygments_lexer": "ipython3",
   "version": "3.10.9"
  },
  "vscode": {
   "interpreter": {
    "hash": "10ec5cd28ee679b377b4b1863ddcfba261f0456be392b27da1124e5c1b20c469"
   }
  }
 },
 "nbformat": 4,
 "nbformat_minor": 2
}
