{
 "cells": [
  {
   "attachments": {},
   "cell_type": "markdown",
   "metadata": {},
   "source": [
    "# Facial Recognition Deep Learning"
   ]
  },
  {
   "attachments": {},
   "cell_type": "markdown",
   "metadata": {},
   "source": [
    "### Installing Dependencies"
   ]
  },
  {
   "cell_type": "code",
   "execution_count": 1,
   "metadata": {},
   "outputs": [
    {
     "name": "stdout",
     "output_type": "stream",
     "text": [
      "Requirement already satisfied: opencv-python in /Users/thanseef/opt/miniconda3/envs/face_recog/lib/python3.9/site-packages (4.7.0.68)\n",
      "Requirement already satisfied: matplotlib in /Users/thanseef/opt/miniconda3/envs/face_recog/lib/python3.9/site-packages (3.6.3)\n",
      "Requirement already satisfied: tensorflow-macos in /Users/thanseef/opt/miniconda3/envs/face_recog/lib/python3.9/site-packages (2.11.0)\n",
      "Requirement already satisfied: numpy>=1.19.3 in /Users/thanseef/opt/miniconda3/envs/face_recog/lib/python3.9/site-packages (from opencv-python) (1.24.2)\n",
      "Requirement already satisfied: cycler>=0.10 in /Users/thanseef/opt/miniconda3/envs/face_recog/lib/python3.9/site-packages (from matplotlib) (0.11.0)\n",
      "Requirement already satisfied: kiwisolver>=1.0.1 in /Users/thanseef/opt/miniconda3/envs/face_recog/lib/python3.9/site-packages (from matplotlib) (1.4.4)\n",
      "Requirement already satisfied: python-dateutil>=2.7 in /Users/thanseef/opt/miniconda3/envs/face_recog/lib/python3.9/site-packages (from matplotlib) (2.8.2)\n",
      "Requirement already satisfied: fonttools>=4.22.0 in /Users/thanseef/opt/miniconda3/envs/face_recog/lib/python3.9/site-packages (from matplotlib) (4.38.0)\n",
      "Requirement already satisfied: pillow>=6.2.0 in /Users/thanseef/opt/miniconda3/envs/face_recog/lib/python3.9/site-packages (from matplotlib) (9.4.0)\n",
      "Requirement already satisfied: packaging>=20.0 in /Users/thanseef/opt/miniconda3/envs/face_recog/lib/python3.9/site-packages (from matplotlib) (23.0)\n",
      "Requirement already satisfied: contourpy>=1.0.1 in /Users/thanseef/opt/miniconda3/envs/face_recog/lib/python3.9/site-packages (from matplotlib) (1.0.7)\n",
      "Requirement already satisfied: pyparsing>=2.2.1 in /Users/thanseef/opt/miniconda3/envs/face_recog/lib/python3.9/site-packages (from matplotlib) (3.0.9)\n",
      "Requirement already satisfied: protobuf<3.20,>=3.9.2 in /Users/thanseef/opt/miniconda3/envs/face_recog/lib/python3.9/site-packages (from tensorflow-macos) (3.19.6)\n",
      "Requirement already satisfied: tensorflow-estimator<2.12,>=2.11.0 in /Users/thanseef/opt/miniconda3/envs/face_recog/lib/python3.9/site-packages (from tensorflow-macos) (2.11.0)\n",
      "Requirement already satisfied: astunparse>=1.6.0 in /Users/thanseef/opt/miniconda3/envs/face_recog/lib/python3.9/site-packages (from tensorflow-macos) (1.6.3)\n",
      "Requirement already satisfied: libclang>=13.0.0 in /Users/thanseef/opt/miniconda3/envs/face_recog/lib/python3.9/site-packages (from tensorflow-macos) (15.0.6.1)\n",
      "Requirement already satisfied: keras<2.12,>=2.11.0 in /Users/thanseef/opt/miniconda3/envs/face_recog/lib/python3.9/site-packages (from tensorflow-macos) (2.11.0)\n",
      "Requirement already satisfied: absl-py>=1.0.0 in /Users/thanseef/opt/miniconda3/envs/face_recog/lib/python3.9/site-packages (from tensorflow-macos) (1.4.0)\n",
      "Requirement already satisfied: wrapt>=1.11.0 in /Users/thanseef/opt/miniconda3/envs/face_recog/lib/python3.9/site-packages (from tensorflow-macos) (1.14.1)\n",
      "Requirement already satisfied: typing-extensions>=3.6.6 in /Users/thanseef/opt/miniconda3/envs/face_recog/lib/python3.9/site-packages (from tensorflow-macos) (4.4.0)\n",
      "Requirement already satisfied: google-pasta>=0.1.1 in /Users/thanseef/opt/miniconda3/envs/face_recog/lib/python3.9/site-packages (from tensorflow-macos) (0.2.0)\n",
      "Requirement already satisfied: six>=1.12.0 in /Users/thanseef/opt/miniconda3/envs/face_recog/lib/python3.9/site-packages (from tensorflow-macos) (1.16.0)\n",
      "Requirement already satisfied: flatbuffers>=2.0 in /Users/thanseef/opt/miniconda3/envs/face_recog/lib/python3.9/site-packages (from tensorflow-macos) (23.1.21)\n",
      "Requirement already satisfied: setuptools in /Users/thanseef/opt/miniconda3/envs/face_recog/lib/python3.9/site-packages (from tensorflow-macos) (65.6.3)\n",
      "Requirement already satisfied: h5py>=2.9.0 in /Users/thanseef/opt/miniconda3/envs/face_recog/lib/python3.9/site-packages (from tensorflow-macos) (3.8.0)\n",
      "Requirement already satisfied: tensorboard<2.12,>=2.11 in /Users/thanseef/opt/miniconda3/envs/face_recog/lib/python3.9/site-packages (from tensorflow-macos) (2.11.2)\n",
      "Requirement already satisfied: opt-einsum>=2.3.2 in /Users/thanseef/opt/miniconda3/envs/face_recog/lib/python3.9/site-packages (from tensorflow-macos) (3.3.0)\n",
      "Requirement already satisfied: gast<=0.4.0,>=0.2.1 in /Users/thanseef/opt/miniconda3/envs/face_recog/lib/python3.9/site-packages (from tensorflow-macos) (0.4.0)\n",
      "Requirement already satisfied: grpcio<2.0,>=1.24.3 in /Users/thanseef/opt/miniconda3/envs/face_recog/lib/python3.9/site-packages (from tensorflow-macos) (1.51.1)\n",
      "Requirement already satisfied: termcolor>=1.1.0 in /Users/thanseef/opt/miniconda3/envs/face_recog/lib/python3.9/site-packages (from tensorflow-macos) (2.2.0)\n",
      "Requirement already satisfied: wheel<1.0,>=0.23.0 in /Users/thanseef/opt/miniconda3/envs/face_recog/lib/python3.9/site-packages (from astunparse>=1.6.0->tensorflow-macos) (0.37.1)\n",
      "Requirement already satisfied: tensorboard-plugin-wit>=1.6.0 in /Users/thanseef/opt/miniconda3/envs/face_recog/lib/python3.9/site-packages (from tensorboard<2.12,>=2.11->tensorflow-macos) (1.8.1)\n",
      "Requirement already satisfied: google-auth-oauthlib<0.5,>=0.4.1 in /Users/thanseef/opt/miniconda3/envs/face_recog/lib/python3.9/site-packages (from tensorboard<2.12,>=2.11->tensorflow-macos) (0.4.6)\n",
      "Requirement already satisfied: google-auth<3,>=1.6.3 in /Users/thanseef/opt/miniconda3/envs/face_recog/lib/python3.9/site-packages (from tensorboard<2.12,>=2.11->tensorflow-macos) (2.16.0)\n",
      "Requirement already satisfied: markdown>=2.6.8 in /Users/thanseef/opt/miniconda3/envs/face_recog/lib/python3.9/site-packages (from tensorboard<2.12,>=2.11->tensorflow-macos) (3.4.1)\n",
      "Requirement already satisfied: werkzeug>=1.0.1 in /Users/thanseef/opt/miniconda3/envs/face_recog/lib/python3.9/site-packages (from tensorboard<2.12,>=2.11->tensorflow-macos) (2.2.2)\n",
      "Requirement already satisfied: tensorboard-data-server<0.7.0,>=0.6.0 in /Users/thanseef/opt/miniconda3/envs/face_recog/lib/python3.9/site-packages (from tensorboard<2.12,>=2.11->tensorflow-macos) (0.6.1)\n",
      "Requirement already satisfied: requests<3,>=2.21.0 in /Users/thanseef/opt/miniconda3/envs/face_recog/lib/python3.9/site-packages (from tensorboard<2.12,>=2.11->tensorflow-macos) (2.28.2)\n",
      "Requirement already satisfied: pyasn1-modules>=0.2.1 in /Users/thanseef/opt/miniconda3/envs/face_recog/lib/python3.9/site-packages (from google-auth<3,>=1.6.3->tensorboard<2.12,>=2.11->tensorflow-macos) (0.2.8)\n",
      "Requirement already satisfied: cachetools<6.0,>=2.0.0 in /Users/thanseef/opt/miniconda3/envs/face_recog/lib/python3.9/site-packages (from google-auth<3,>=1.6.3->tensorboard<2.12,>=2.11->tensorflow-macos) (5.3.0)\n",
      "Requirement already satisfied: rsa<5,>=3.1.4 in /Users/thanseef/opt/miniconda3/envs/face_recog/lib/python3.9/site-packages (from google-auth<3,>=1.6.3->tensorboard<2.12,>=2.11->tensorflow-macos) (4.9)\n",
      "Requirement already satisfied: requests-oauthlib>=0.7.0 in /Users/thanseef/opt/miniconda3/envs/face_recog/lib/python3.9/site-packages (from google-auth-oauthlib<0.5,>=0.4.1->tensorboard<2.12,>=2.11->tensorflow-macos) (1.3.1)\n",
      "Requirement already satisfied: importlib-metadata>=4.4 in /Users/thanseef/opt/miniconda3/envs/face_recog/lib/python3.9/site-packages (from markdown>=2.6.8->tensorboard<2.12,>=2.11->tensorflow-macos) (6.0.0)\n",
      "Requirement already satisfied: charset-normalizer<4,>=2 in /Users/thanseef/opt/miniconda3/envs/face_recog/lib/python3.9/site-packages (from requests<3,>=2.21.0->tensorboard<2.12,>=2.11->tensorflow-macos) (3.0.1)\n",
      "Requirement already satisfied: idna<4,>=2.5 in /Users/thanseef/opt/miniconda3/envs/face_recog/lib/python3.9/site-packages (from requests<3,>=2.21.0->tensorboard<2.12,>=2.11->tensorflow-macos) (3.4)\n",
      "Requirement already satisfied: certifi>=2017.4.17 in /Users/thanseef/opt/miniconda3/envs/face_recog/lib/python3.9/site-packages (from requests<3,>=2.21.0->tensorboard<2.12,>=2.11->tensorflow-macos) (2022.12.7)\n",
      "Requirement already satisfied: urllib3<1.27,>=1.21.1 in /Users/thanseef/opt/miniconda3/envs/face_recog/lib/python3.9/site-packages (from requests<3,>=2.21.0->tensorboard<2.12,>=2.11->tensorflow-macos) (1.26.14)\n",
      "Requirement already satisfied: MarkupSafe>=2.1.1 in /Users/thanseef/opt/miniconda3/envs/face_recog/lib/python3.9/site-packages (from werkzeug>=1.0.1->tensorboard<2.12,>=2.11->tensorflow-macos) (2.1.2)\n",
      "Requirement already satisfied: zipp>=0.5 in /Users/thanseef/opt/miniconda3/envs/face_recog/lib/python3.9/site-packages (from importlib-metadata>=4.4->markdown>=2.6.8->tensorboard<2.12,>=2.11->tensorflow-macos) (3.13.0)\n",
      "Requirement already satisfied: pyasn1<0.5.0,>=0.4.6 in /Users/thanseef/opt/miniconda3/envs/face_recog/lib/python3.9/site-packages (from pyasn1-modules>=0.2.1->google-auth<3,>=1.6.3->tensorboard<2.12,>=2.11->tensorflow-macos) (0.4.8)\n",
      "Requirement already satisfied: oauthlib>=3.0.0 in /Users/thanseef/opt/miniconda3/envs/face_recog/lib/python3.9/site-packages (from requests-oauthlib>=0.7.0->google-auth-oauthlib<0.5,>=0.4.1->tensorboard<2.12,>=2.11->tensorflow-macos) (3.2.2)\n",
      "Note: you may need to restart the kernel to use updated packages.\n"
     ]
    }
   ],
   "source": [
    "%pip install opencv-python matplotlib tensorflow-macos\n",
    "\n",
    "#tensorflow~=2.6.0 and tensorflow-gpu==2.6.0 for non mac users"
   ]
  },
  {
   "attachments": {},
   "cell_type": "markdown",
   "metadata": {},
   "source": [
    "## Importing Libraries"
   ]
  },
  {
   "cell_type": "code",
   "execution_count": 2,
   "metadata": {},
   "outputs": [],
   "source": [
    "import numpy as np\n",
    "import cv2\n",
    "import os\n",
    "import random\n",
    "import matplotlib.pyplot as plt\n",
    "# tensorflow functional apis\n",
    "import tensorflow as tf\n",
    "from tensorflow.keras.models import Model\n",
    "from tensorflow.keras.layers import Layer, Conv2D, Dense, MaxPooling2D, Input, Flatten"
   ]
  },
  {
   "cell_type": "code",
   "execution_count": 3,
   "metadata": {},
   "outputs": [],
   "source": [
    "# Input & Output Model Look Like\n",
    "#Model(input=[inputimgage, verificationImage], output=[1,0])"
   ]
  },
  {
   "attachments": {},
   "cell_type": "markdown",
   "metadata": {},
   "source": [
    "### GPU GROWTH (LIMIT GPU)\n",
    "##### DON'T USE THIS COMMAND IF YOU DON'T HAVE GPU ON YOUR DEVICE"
   ]
  },
  {
   "cell_type": "code",
   "execution_count": 4,
   "metadata": {},
   "outputs": [],
   "source": [
    "# Avoid OOM errors by setting GPU memory consumption growth\n",
    "gpus = tf.config.experimental.list_physical_devices('GPU')\n",
    "\n",
    "for gpu in gpus:\n",
    "    tf.config.experimental.set_memory_growth(gpu,True)"
   ]
  },
  {
   "attachments": {},
   "cell_type": "markdown",
   "metadata": {},
   "source": [
    "#### Folder Structure "
   ]
  },
  {
   "cell_type": "code",
   "execution_count": 5,
   "metadata": {},
   "outputs": [],
   "source": [
    "# specifying folder path\n",
    "POSITIVE_PATH = os.path.join('data','positive')\n",
    "NEGATIVE_PATH = os.path.join('data','negative')\n",
    "ANCHOR_PATH = os.path.join('data','anchor')\n",
    "# creating the folders\n",
    "os.makedirs(POSITIVE_PATH)\n",
    "os.makedirs(NEGATIVE_PATH)\n",
    "os.makedirs(ANCHOR_PATH)\n"
   ]
  },
  {
   "attachments": {},
   "cell_type": "markdown",
   "metadata": {},
   "source": [
    "## Collect Dataset (Positive and Anchor)"
   ]
  },
  {
   "cell_type": "code",
   "execution_count": 6,
   "metadata": {},
   "outputs": [],
   "source": [
    "# decompress Tar GZ file\n",
    "# !tar -xf lfw.tgz"
   ]
  },
  {
   "cell_type": "code",
   "execution_count": 7,
   "metadata": {},
   "outputs": [],
   "source": [
    "# Move Images to Data/Negative \n",
    "for dir in os.listdir('lfw'):\n",
    "    # to get the inside folder paths\n",
    "    for file in os.listdir(os.path.join('lfw',dir)):\n",
    "        exact_path = os.path.join('lfw',dir,file)\n",
    "        new_path = os.path.join(NEGATIVE_PATH,file)\n",
    "        os.replace(exact_path,new_path)\n"
   ]
  },
  {
   "cell_type": "code",
   "execution_count": 8,
   "metadata": {},
   "outputs": [],
   "source": [
    "# !rm -rf lfw"
   ]
  },
  {
   "attachments": {},
   "cell_type": "markdown",
   "metadata": {},
   "source": [
    "## Collect Positive and Anchor Class"
   ]
  },
  {
   "attachments": {},
   "cell_type": "markdown",
   "metadata": {},
   "source": [
    "### VideoCapture CV2 "
   ]
  },
  {
   "cell_type": "code",
   "execution_count": 9,
   "metadata": {},
   "outputs": [],
   "source": [
    "# Establish a connection to the webcam\n",
    "cap = cv2.VideoCapture(0)\n",
    "\n",
    "# Check if camera opened successfully\n",
    "if (cap.isOpened() == False): \n",
    "  print(\"Unable to read camera feed\")\n",
    "\n",
    "# Default resolutions of the frame are obtained.The default resolutions are system dependent.\n",
    "# We convert the resolutions from float to integer.\n",
    "frame_width = int(cap.get(3))\n",
    "frame_height = int(cap.get(4))\n",
    "\n",
    "\n",
    "while(True):\n",
    "  ret, frame = cap.read()\n",
    "\n",
    "  if ret == True: \n",
    "\n",
    "    # Display the resulting frame    \n",
    "    cv2.imshow('frame',frame)\n",
    "\n",
    "    # Press Q on keyboard to stop recording\n",
    "    if cv2.waitKey(1) & 0xFF == ord('q'):\n",
    "      break\n",
    "\n",
    "  # Break the loop\n",
    "  else:\n",
    "    break \n",
    "    \n",
    "# When everything done, release the video capture and video write objects\n",
    "cap.release()\n",
    "# Closes all the frames\n",
    "cv2.destroyAllWindows() "
   ]
  }
 ],
 "metadata": {
  "kernelspec": {
   "display_name": "face_recog",
   "language": "python",
   "name": "python3"
  },
  "language_info": {
   "codemirror_mode": {
    "name": "ipython",
    "version": 3
   },
   "file_extension": ".py",
   "mimetype": "text/x-python",
   "name": "python",
   "nbconvert_exporter": "python",
   "pygments_lexer": "ipython3",
   "version": "3.9.16"
  },
  "orig_nbformat": 4,
  "vscode": {
   "interpreter": {
    "hash": "10ec5cd28ee679b377b4b1863ddcfba261f0456be392b27da1124e5c1b20c469"
   }
  }
 },
 "nbformat": 4,
 "nbformat_minor": 2
}
