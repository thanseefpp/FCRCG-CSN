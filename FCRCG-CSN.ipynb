{
 "cells": [
  {
   "attachments": {},
   "cell_type": "markdown",
   "metadata": {},
   "source": [
    "# Facial Recognition Deep Learning"
   ]
  },
  {
   "attachments": {},
   "cell_type": "markdown",
   "metadata": {},
   "source": [
    "### Installing Dependencies"
   ]
  },
  {
   "cell_type": "code",
   "execution_count": 7,
   "metadata": {},
   "outputs": [
    {
     "name": "stdout",
     "output_type": "stream",
     "text": [
      "Requirement already satisfied: opencv-python in /Users/thanseef/opt/miniconda3/envs/tensorflow/lib/python3.9/site-packages (4.5.5)\n",
      "Requirement already satisfied: matplotlib in /Users/thanseef/opt/miniconda3/envs/tensorflow/lib/python3.9/site-packages (3.6.2)\n",
      "Requirement already satisfied: tensorflow-macos in /Users/thanseef/opt/miniconda3/envs/tensorflow/lib/python3.9/site-packages (2.10.0)\n",
      "Requirement already satisfied: pillow>=6.2.0 in /Users/thanseef/opt/miniconda3/envs/tensorflow/lib/python3.9/site-packages (from matplotlib) (9.2.0)\n",
      "Requirement already satisfied: packaging>=20.0 in /Users/thanseef/opt/miniconda3/envs/tensorflow/lib/python3.9/site-packages (from matplotlib) (21.3)\n",
      "Requirement already satisfied: fonttools>=4.22.0 in /Users/thanseef/opt/miniconda3/envs/tensorflow/lib/python3.9/site-packages (from matplotlib) (4.38.0)\n",
      "Requirement already satisfied: kiwisolver>=1.0.1 in /Users/thanseef/opt/miniconda3/envs/tensorflow/lib/python3.9/site-packages (from matplotlib) (1.4.4)\n",
      "Requirement already satisfied: numpy>=1.19 in /Users/thanseef/opt/miniconda3/envs/tensorflow/lib/python3.9/site-packages (from matplotlib) (1.23.2)\n",
      "Requirement already satisfied: pyparsing>=2.2.1 in /Users/thanseef/opt/miniconda3/envs/tensorflow/lib/python3.9/site-packages (from matplotlib) (3.0.9)\n",
      "Requirement already satisfied: cycler>=0.10 in /Users/thanseef/opt/miniconda3/envs/tensorflow/lib/python3.9/site-packages (from matplotlib) (0.11.0)\n",
      "Requirement already satisfied: contourpy>=1.0.1 in /Users/thanseef/opt/miniconda3/envs/tensorflow/lib/python3.9/site-packages (from matplotlib) (1.0.6)\n",
      "Requirement already satisfied: python-dateutil>=2.7 in /Users/thanseef/opt/miniconda3/envs/tensorflow/lib/python3.9/site-packages (from matplotlib) (2.8.2)\n",
      "Requirement already satisfied: six>=1.12.0 in /Users/thanseef/opt/miniconda3/envs/tensorflow/lib/python3.9/site-packages (from tensorflow-macos) (1.16.0)\n",
      "Collecting tensorboard<2.11,>=2.10\n",
      "  Downloading tensorboard-2.10.1-py3-none-any.whl (5.9 MB)\n",
      "\u001b[2K     \u001b[90m━━━━━━━━━━━━━━━━━━━━━━━━━━━━━━━━━━━━━━━━\u001b[0m \u001b[32m5.9/5.9 MB\u001b[0m \u001b[31m7.2 MB/s\u001b[0m eta \u001b[36m0:00:00\u001b[0ma \u001b[36m0:00:01\u001b[0m\n",
      "\u001b[?25hCollecting tensorflow-estimator<2.11,>=2.10.0\n",
      "  Downloading tensorflow_estimator-2.10.0-py2.py3-none-any.whl (438 kB)\n",
      "\u001b[2K     \u001b[90m━━━━━━━━━━━━━━━━━━━━━━━━━━━━━━━━━━━━━━\u001b[0m \u001b[32m438.7/438.7 kB\u001b[0m \u001b[31m12.6 MB/s\u001b[0m eta \u001b[36m0:00:00\u001b[0m\n",
      "\u001b[?25hRequirement already satisfied: absl-py>=1.0.0 in /Users/thanseef/opt/miniconda3/envs/tensorflow/lib/python3.9/site-packages (from tensorflow-macos) (1.3.0)\n",
      "Requirement already satisfied: libclang>=13.0.0 in /Users/thanseef/opt/miniconda3/envs/tensorflow/lib/python3.9/site-packages (from tensorflow-macos) (14.0.6)\n",
      "Requirement already satisfied: google-pasta>=0.1.1 in /Users/thanseef/opt/miniconda3/envs/tensorflow/lib/python3.9/site-packages (from tensorflow-macos) (0.2.0)\n",
      "Collecting keras<2.11,>=2.10.0\n",
      "  Using cached keras-2.10.0-py2.py3-none-any.whl (1.7 MB)\n",
      "Requirement already satisfied: wrapt>=1.11.0 in /Users/thanseef/opt/miniconda3/envs/tensorflow/lib/python3.9/site-packages (from tensorflow-macos) (1.14.1)\n",
      "Requirement already satisfied: keras-preprocessing>=1.1.1 in /Users/thanseef/opt/miniconda3/envs/tensorflow/lib/python3.9/site-packages (from tensorflow-macos) (1.1.2)\n",
      "Requirement already satisfied: opt-einsum>=2.3.2 in /Users/thanseef/opt/miniconda3/envs/tensorflow/lib/python3.9/site-packages (from tensorflow-macos) (3.3.0)\n",
      "Requirement already satisfied: grpcio<2.0,>=1.24.3 in /Users/thanseef/opt/miniconda3/envs/tensorflow/lib/python3.9/site-packages (from tensorflow-macos) (1.43.0)\n",
      "Requirement already satisfied: astunparse>=1.6.0 in /Users/thanseef/opt/miniconda3/envs/tensorflow/lib/python3.9/site-packages (from tensorflow-macos) (1.6.3)\n",
      "Requirement already satisfied: h5py>=2.9.0 in /Users/thanseef/opt/miniconda3/envs/tensorflow/lib/python3.9/site-packages (from tensorflow-macos) (3.6.0)\n",
      "Requirement already satisfied: flatbuffers>=2.0 in /Users/thanseef/opt/miniconda3/envs/tensorflow/lib/python3.9/site-packages (from tensorflow-macos) (22.10.26)\n",
      "Collecting protobuf<3.20,>=3.9.2\n",
      "  Using cached protobuf-3.19.6-py2.py3-none-any.whl (162 kB)\n",
      "Requirement already satisfied: termcolor>=1.1.0 in /Users/thanseef/opt/miniconda3/envs/tensorflow/lib/python3.9/site-packages (from tensorflow-macos) (2.1.0)\n",
      "Requirement already satisfied: gast<=0.4.0,>=0.2.1 in /Users/thanseef/opt/miniconda3/envs/tensorflow/lib/python3.9/site-packages (from tensorflow-macos) (0.4.0)\n",
      "Requirement already satisfied: setuptools in /Users/thanseef/opt/miniconda3/envs/tensorflow/lib/python3.9/site-packages (from tensorflow-macos) (65.6.3)\n",
      "Requirement already satisfied: typing-extensions>=3.6.6 in /Users/thanseef/opt/miniconda3/envs/tensorflow/lib/python3.9/site-packages (from tensorflow-macos) (4.4.0)\n",
      "Requirement already satisfied: wheel<1.0,>=0.23.0 in /Users/thanseef/opt/miniconda3/envs/tensorflow/lib/python3.9/site-packages (from astunparse>=1.6.0->tensorflow-macos) (0.38.4)\n",
      "Requirement already satisfied: tensorboard-plugin-wit>=1.6.0 in /Users/thanseef/opt/miniconda3/envs/tensorflow/lib/python3.9/site-packages (from tensorboard<2.11,>=2.10->tensorflow-macos) (1.8.1)\n",
      "Requirement already satisfied: werkzeug>=1.0.1 in /Users/thanseef/opt/miniconda3/envs/tensorflow/lib/python3.9/site-packages (from tensorboard<2.11,>=2.10->tensorflow-macos) (2.2.2)\n",
      "Requirement already satisfied: requests<3,>=2.21.0 in /Users/thanseef/opt/miniconda3/envs/tensorflow/lib/python3.9/site-packages (from tensorboard<2.11,>=2.10->tensorflow-macos) (2.28.1)\n",
      "Requirement already satisfied: tensorboard-data-server<0.7.0,>=0.6.0 in /Users/thanseef/opt/miniconda3/envs/tensorflow/lib/python3.9/site-packages (from tensorboard<2.11,>=2.10->tensorflow-macos) (0.6.1)\n",
      "Requirement already satisfied: google-auth<3,>=1.6.3 in /Users/thanseef/opt/miniconda3/envs/tensorflow/lib/python3.9/site-packages (from tensorboard<2.11,>=2.10->tensorflow-macos) (2.14.0)\n",
      "Requirement already satisfied: google-auth-oauthlib<0.5,>=0.4.1 in /Users/thanseef/opt/miniconda3/envs/tensorflow/lib/python3.9/site-packages (from tensorboard<2.11,>=2.10->tensorflow-macos) (0.4.6)\n",
      "Requirement already satisfied: markdown>=2.6.8 in /Users/thanseef/opt/miniconda3/envs/tensorflow/lib/python3.9/site-packages (from tensorboard<2.11,>=2.10->tensorflow-macos) (3.4.1)\n",
      "Requirement already satisfied: rsa<5,>=3.1.4 in /Users/thanseef/opt/miniconda3/envs/tensorflow/lib/python3.9/site-packages (from google-auth<3,>=1.6.3->tensorboard<2.11,>=2.10->tensorflow-macos) (4.9)\n",
      "Requirement already satisfied: pyasn1-modules>=0.2.1 in /Users/thanseef/opt/miniconda3/envs/tensorflow/lib/python3.9/site-packages (from google-auth<3,>=1.6.3->tensorboard<2.11,>=2.10->tensorflow-macos) (0.2.8)\n",
      "Requirement already satisfied: cachetools<6.0,>=2.0.0 in /Users/thanseef/opt/miniconda3/envs/tensorflow/lib/python3.9/site-packages (from google-auth<3,>=1.6.3->tensorboard<2.11,>=2.10->tensorflow-macos) (5.2.0)\n",
      "Requirement already satisfied: requests-oauthlib>=0.7.0 in /Users/thanseef/opt/miniconda3/envs/tensorflow/lib/python3.9/site-packages (from google-auth-oauthlib<0.5,>=0.4.1->tensorboard<2.11,>=2.10->tensorflow-macos) (1.3.1)\n",
      "Requirement already satisfied: importlib-metadata>=4.4 in /Users/thanseef/opt/miniconda3/envs/tensorflow/lib/python3.9/site-packages (from markdown>=2.6.8->tensorboard<2.11,>=2.10->tensorflow-macos) (5.0.0)\n",
      "Requirement already satisfied: charset-normalizer<3,>=2 in /Users/thanseef/opt/miniconda3/envs/tensorflow/lib/python3.9/site-packages (from requests<3,>=2.21.0->tensorboard<2.11,>=2.10->tensorflow-macos) (2.1.1)\n",
      "Requirement already satisfied: certifi>=2017.4.17 in /Users/thanseef/opt/miniconda3/envs/tensorflow/lib/python3.9/site-packages (from requests<3,>=2.21.0->tensorboard<2.11,>=2.10->tensorflow-macos) (2022.12.7)\n",
      "Requirement already satisfied: urllib3<1.27,>=1.21.1 in /Users/thanseef/opt/miniconda3/envs/tensorflow/lib/python3.9/site-packages (from requests<3,>=2.21.0->tensorboard<2.11,>=2.10->tensorflow-macos) (1.26.11)\n",
      "Requirement already satisfied: idna<4,>=2.5 in /Users/thanseef/opt/miniconda3/envs/tensorflow/lib/python3.9/site-packages (from requests<3,>=2.21.0->tensorboard<2.11,>=2.10->tensorflow-macos) (3.4)\n",
      "Requirement already satisfied: MarkupSafe>=2.1.1 in /Users/thanseef/opt/miniconda3/envs/tensorflow/lib/python3.9/site-packages (from werkzeug>=1.0.1->tensorboard<2.11,>=2.10->tensorflow-macos) (2.1.1)\n",
      "Requirement already satisfied: zipp>=0.5 in /Users/thanseef/opt/miniconda3/envs/tensorflow/lib/python3.9/site-packages (from importlib-metadata>=4.4->markdown>=2.6.8->tensorboard<2.11,>=2.10->tensorflow-macos) (3.10.0)\n",
      "Requirement already satisfied: pyasn1<0.5.0,>=0.4.6 in /Users/thanseef/opt/miniconda3/envs/tensorflow/lib/python3.9/site-packages (from pyasn1-modules>=0.2.1->google-auth<3,>=1.6.3->tensorboard<2.11,>=2.10->tensorflow-macos) (0.4.8)\n",
      "Requirement already satisfied: oauthlib>=3.0.0 in /Users/thanseef/opt/miniconda3/envs/tensorflow/lib/python3.9/site-packages (from requests-oauthlib>=0.7.0->google-auth-oauthlib<0.5,>=0.4.1->tensorboard<2.11,>=2.10->tensorflow-macos) (3.2.2)\n",
      "Installing collected packages: keras, tensorflow-estimator, protobuf, tensorboard\n",
      "  Attempting uninstall: keras\n",
      "    Found existing installation: keras 2.8.0\n",
      "    Uninstalling keras-2.8.0:\n",
      "      Successfully uninstalled keras-2.8.0\n",
      "  Attempting uninstall: tensorflow-estimator\n",
      "    Found existing installation: tensorflow-estimator 2.8.0\n",
      "    Uninstalling tensorflow-estimator-2.8.0:\n",
      "      Successfully uninstalled tensorflow-estimator-2.8.0\n",
      "  Attempting uninstall: protobuf\n",
      "    Found existing installation: protobuf 3.20.0\n",
      "    Uninstalling protobuf-3.20.0:\n",
      "      Successfully uninstalled protobuf-3.20.0\n",
      "  Attempting uninstall: tensorboard\n",
      "    Found existing installation: tensorboard 2.8.0\n",
      "    Uninstalling tensorboard-2.8.0:\n",
      "      Successfully uninstalled tensorboard-2.8.0\n",
      "\u001b[31mERROR: pip's dependency resolver does not currently take into account all the packages that are installed. This behaviour is the source of the following dependency conflicts.\n",
      "tensorflow 2.8.0 requires keras<2.9,>=2.8, but you have keras 2.10.0 which is incompatible.\n",
      "tensorflow 2.8.0 requires tensorboard<2.9,>=2.8, but you have tensorboard 2.10.1 which is incompatible.\n",
      "tensorflow 2.8.0 requires tensorflow-estimator==2.8.0, but you have tensorflow-estimator 2.10.0 which is incompatible.\u001b[0m\u001b[31m\n",
      "\u001b[0mSuccessfully installed keras-2.10.0 protobuf-3.19.6 tensorboard-2.10.1 tensorflow-estimator-2.10.0\n",
      "\n",
      "\u001b[1m[\u001b[0m\u001b[34;49mnotice\u001b[0m\u001b[1;39;49m]\u001b[0m\u001b[39;49m A new release of pip available: \u001b[0m\u001b[31;49m22.3.1\u001b[0m\u001b[39;49m -> \u001b[0m\u001b[32;49m23.0\u001b[0m\n",
      "\u001b[1m[\u001b[0m\u001b[34;49mnotice\u001b[0m\u001b[1;39;49m]\u001b[0m\u001b[39;49m To update, run: \u001b[0m\u001b[32;49mpip install --upgrade pip\u001b[0m\n"
     ]
    }
   ],
   "source": [
    "!pip install opencv-python matplotlib tensorflow-macos\n",
    "\n",
    "#tensorflow~=2.6.0 and tensorflow-gpu==2.6.0 for non mac users"
   ]
  },
  {
   "attachments": {},
   "cell_type": "markdown",
   "metadata": {},
   "source": [
    "## Importing Libraries"
   ]
  },
  {
   "cell_type": "code",
   "execution_count": null,
   "metadata": {},
   "outputs": [],
   "source": [
    "import numpy as np\n",
    "import cv2\n",
    "import os\n",
    "import random\n",
    "import matplotlib.pyplot as plt"
   ]
  }
 ],
 "metadata": {
  "kernelspec": {
   "display_name": "tensorflow",
   "language": "python",
   "name": "python3"
  },
  "language_info": {
   "codemirror_mode": {
    "name": "ipython",
    "version": 3
   },
   "file_extension": ".py",
   "mimetype": "text/x-python",
   "name": "python",
   "nbconvert_exporter": "python",
   "pygments_lexer": "ipython3",
   "version": "3.9.13"
  },
  "orig_nbformat": 4,
  "vscode": {
   "interpreter": {
    "hash": "e6a7a5b5dd92f3ff8a78f358dce6671993fb70b6d76018ef9a9619aeb3b6ac66"
   }
  }
 },
 "nbformat": 4,
 "nbformat_minor": 2
}
