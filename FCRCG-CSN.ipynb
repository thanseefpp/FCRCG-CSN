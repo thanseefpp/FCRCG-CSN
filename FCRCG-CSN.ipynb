{
 "cells": [
  {
   "attachments": {},
   "cell_type": "markdown",
   "metadata": {},
   "source": [
    "# Facial Recognition Deep Learning"
   ]
  },
  {
   "attachments": {},
   "cell_type": "markdown",
   "metadata": {},
   "source": [
    "### Installing Dependencies"
   ]
  },
  {
   "cell_type": "code",
   "execution_count": 1,
   "metadata": {},
   "outputs": [
    {
     "name": "stdout",
     "output_type": "stream",
     "text": [
      "Collecting opencv-python\n",
      "  Using cached opencv_python-4.7.0.68-cp37-abi3-macosx_11_0_arm64.whl (31.1 MB)\n",
      "Collecting matplotlib\n",
      "  Using cached matplotlib-3.6.3-cp39-cp39-macosx_11_0_arm64.whl (7.2 MB)\n",
      "Requirement already satisfied: tensorflow-macos in /Users/thanseef/opt/miniconda3/envs/face_recog/lib/python3.9/site-packages (2.11.0)\n",
      "Requirement already satisfied: numpy>=1.19.3 in /Users/thanseef/opt/miniconda3/envs/face_recog/lib/python3.9/site-packages (from opencv-python) (1.24.2)\n",
      "Requirement already satisfied: packaging>=20.0 in /Users/thanseef/opt/miniconda3/envs/face_recog/lib/python3.9/site-packages (from matplotlib) (23.0)\n",
      "Collecting pillow>=6.2.0\n",
      "  Using cached Pillow-9.4.0-cp39-cp39-macosx_11_0_arm64.whl (3.0 MB)\n",
      "Collecting contourpy>=1.0.1\n",
      "  Using cached contourpy-1.0.7-cp39-cp39-macosx_11_0_arm64.whl (229 kB)\n",
      "Collecting fonttools>=4.22.0\n",
      "  Using cached fonttools-4.38.0-py3-none-any.whl (965 kB)\n",
      "Requirement already satisfied: python-dateutil>=2.7 in /Users/thanseef/opt/miniconda3/envs/face_recog/lib/python3.9/site-packages (from matplotlib) (2.8.2)\n",
      "Collecting pyparsing>=2.2.1\n",
      "  Using cached pyparsing-3.0.9-py3-none-any.whl (98 kB)\n",
      "Collecting kiwisolver>=1.0.1\n",
      "  Using cached kiwisolver-1.4.4-cp39-cp39-macosx_11_0_arm64.whl (63 kB)\n",
      "Collecting cycler>=0.10\n",
      "  Using cached cycler-0.11.0-py3-none-any.whl (6.4 kB)\n",
      "Requirement already satisfied: h5py>=2.9.0 in /Users/thanseef/opt/miniconda3/envs/face_recog/lib/python3.9/site-packages (from tensorflow-macos) (3.8.0)\n",
      "Requirement already satisfied: six>=1.12.0 in /Users/thanseef/opt/miniconda3/envs/face_recog/lib/python3.9/site-packages (from tensorflow-macos) (1.16.0)\n",
      "Requirement already satisfied: termcolor>=1.1.0 in /Users/thanseef/opt/miniconda3/envs/face_recog/lib/python3.9/site-packages (from tensorflow-macos) (2.2.0)\n",
      "Requirement already satisfied: opt-einsum>=2.3.2 in /Users/thanseef/opt/miniconda3/envs/face_recog/lib/python3.9/site-packages (from tensorflow-macos) (3.3.0)\n",
      "Requirement already satisfied: setuptools in /Users/thanseef/opt/miniconda3/envs/face_recog/lib/python3.9/site-packages (from tensorflow-macos) (65.6.3)\n",
      "Requirement already satisfied: gast<=0.4.0,>=0.2.1 in /Users/thanseef/opt/miniconda3/envs/face_recog/lib/python3.9/site-packages (from tensorflow-macos) (0.4.0)\n",
      "Requirement already satisfied: tensorboard<2.12,>=2.11 in /Users/thanseef/opt/miniconda3/envs/face_recog/lib/python3.9/site-packages (from tensorflow-macos) (2.11.2)\n",
      "Requirement already satisfied: absl-py>=1.0.0 in /Users/thanseef/opt/miniconda3/envs/face_recog/lib/python3.9/site-packages (from tensorflow-macos) (1.4.0)\n",
      "Requirement already satisfied: grpcio<2.0,>=1.24.3 in /Users/thanseef/opt/miniconda3/envs/face_recog/lib/python3.9/site-packages (from tensorflow-macos) (1.51.1)\n",
      "Requirement already satisfied: google-pasta>=0.1.1 in /Users/thanseef/opt/miniconda3/envs/face_recog/lib/python3.9/site-packages (from tensorflow-macos) (0.2.0)\n",
      "Requirement already satisfied: typing-extensions>=3.6.6 in /Users/thanseef/opt/miniconda3/envs/face_recog/lib/python3.9/site-packages (from tensorflow-macos) (4.4.0)\n",
      "Requirement already satisfied: tensorflow-estimator<2.12,>=2.11.0 in /Users/thanseef/opt/miniconda3/envs/face_recog/lib/python3.9/site-packages (from tensorflow-macos) (2.11.0)\n",
      "Requirement already satisfied: flatbuffers>=2.0 in /Users/thanseef/opt/miniconda3/envs/face_recog/lib/python3.9/site-packages (from tensorflow-macos) (23.1.21)\n",
      "Requirement already satisfied: wrapt>=1.11.0 in /Users/thanseef/opt/miniconda3/envs/face_recog/lib/python3.9/site-packages (from tensorflow-macos) (1.14.1)\n",
      "Requirement already satisfied: astunparse>=1.6.0 in /Users/thanseef/opt/miniconda3/envs/face_recog/lib/python3.9/site-packages (from tensorflow-macos) (1.6.3)\n",
      "Requirement already satisfied: keras<2.12,>=2.11.0 in /Users/thanseef/opt/miniconda3/envs/face_recog/lib/python3.9/site-packages (from tensorflow-macos) (2.11.0)\n",
      "Requirement already satisfied: libclang>=13.0.0 in /Users/thanseef/opt/miniconda3/envs/face_recog/lib/python3.9/site-packages (from tensorflow-macos) (15.0.6.1)\n",
      "Requirement already satisfied: protobuf<3.20,>=3.9.2 in /Users/thanseef/opt/miniconda3/envs/face_recog/lib/python3.9/site-packages (from tensorflow-macos) (3.19.6)\n",
      "Requirement already satisfied: wheel<1.0,>=0.23.0 in /Users/thanseef/opt/miniconda3/envs/face_recog/lib/python3.9/site-packages (from astunparse>=1.6.0->tensorflow-macos) (0.37.1)\n",
      "Requirement already satisfied: requests<3,>=2.21.0 in /Users/thanseef/opt/miniconda3/envs/face_recog/lib/python3.9/site-packages (from tensorboard<2.12,>=2.11->tensorflow-macos) (2.28.2)\n",
      "Requirement already satisfied: tensorboard-data-server<0.7.0,>=0.6.0 in /Users/thanseef/opt/miniconda3/envs/face_recog/lib/python3.9/site-packages (from tensorboard<2.12,>=2.11->tensorflow-macos) (0.6.1)\n",
      "Requirement already satisfied: tensorboard-plugin-wit>=1.6.0 in /Users/thanseef/opt/miniconda3/envs/face_recog/lib/python3.9/site-packages (from tensorboard<2.12,>=2.11->tensorflow-macos) (1.8.1)\n",
      "Requirement already satisfied: werkzeug>=1.0.1 in /Users/thanseef/opt/miniconda3/envs/face_recog/lib/python3.9/site-packages (from tensorboard<2.12,>=2.11->tensorflow-macos) (2.2.2)\n",
      "Requirement already satisfied: google-auth-oauthlib<0.5,>=0.4.1 in /Users/thanseef/opt/miniconda3/envs/face_recog/lib/python3.9/site-packages (from tensorboard<2.12,>=2.11->tensorflow-macos) (0.4.6)\n",
      "Requirement already satisfied: markdown>=2.6.8 in /Users/thanseef/opt/miniconda3/envs/face_recog/lib/python3.9/site-packages (from tensorboard<2.12,>=2.11->tensorflow-macos) (3.4.1)\n",
      "Requirement already satisfied: google-auth<3,>=1.6.3 in /Users/thanseef/opt/miniconda3/envs/face_recog/lib/python3.9/site-packages (from tensorboard<2.12,>=2.11->tensorflow-macos) (2.16.0)\n",
      "Requirement already satisfied: rsa<5,>=3.1.4 in /Users/thanseef/opt/miniconda3/envs/face_recog/lib/python3.9/site-packages (from google-auth<3,>=1.6.3->tensorboard<2.12,>=2.11->tensorflow-macos) (4.9)\n",
      "Requirement already satisfied: pyasn1-modules>=0.2.1 in /Users/thanseef/opt/miniconda3/envs/face_recog/lib/python3.9/site-packages (from google-auth<3,>=1.6.3->tensorboard<2.12,>=2.11->tensorflow-macos) (0.2.8)\n",
      "Requirement already satisfied: cachetools<6.0,>=2.0.0 in /Users/thanseef/opt/miniconda3/envs/face_recog/lib/python3.9/site-packages (from google-auth<3,>=1.6.3->tensorboard<2.12,>=2.11->tensorflow-macos) (5.3.0)\n",
      "Requirement already satisfied: requests-oauthlib>=0.7.0 in /Users/thanseef/opt/miniconda3/envs/face_recog/lib/python3.9/site-packages (from google-auth-oauthlib<0.5,>=0.4.1->tensorboard<2.12,>=2.11->tensorflow-macos) (1.3.1)\n",
      "Requirement already satisfied: importlib-metadata>=4.4 in /Users/thanseef/opt/miniconda3/envs/face_recog/lib/python3.9/site-packages (from markdown>=2.6.8->tensorboard<2.12,>=2.11->tensorflow-macos) (6.0.0)\n",
      "Requirement already satisfied: idna<4,>=2.5 in /Users/thanseef/opt/miniconda3/envs/face_recog/lib/python3.9/site-packages (from requests<3,>=2.21.0->tensorboard<2.12,>=2.11->tensorflow-macos) (3.4)\n",
      "Requirement already satisfied: charset-normalizer<4,>=2 in /Users/thanseef/opt/miniconda3/envs/face_recog/lib/python3.9/site-packages (from requests<3,>=2.21.0->tensorboard<2.12,>=2.11->tensorflow-macos) (3.0.1)\n",
      "Requirement already satisfied: certifi>=2017.4.17 in /Users/thanseef/opt/miniconda3/envs/face_recog/lib/python3.9/site-packages (from requests<3,>=2.21.0->tensorboard<2.12,>=2.11->tensorflow-macos) (2022.12.7)\n",
      "Requirement already satisfied: urllib3<1.27,>=1.21.1 in /Users/thanseef/opt/miniconda3/envs/face_recog/lib/python3.9/site-packages (from requests<3,>=2.21.0->tensorboard<2.12,>=2.11->tensorflow-macos) (1.26.14)\n",
      "Requirement already satisfied: MarkupSafe>=2.1.1 in /Users/thanseef/opt/miniconda3/envs/face_recog/lib/python3.9/site-packages (from werkzeug>=1.0.1->tensorboard<2.12,>=2.11->tensorflow-macos) (2.1.2)\n",
      "Requirement already satisfied: zipp>=0.5 in /Users/thanseef/opt/miniconda3/envs/face_recog/lib/python3.9/site-packages (from importlib-metadata>=4.4->markdown>=2.6.8->tensorboard<2.12,>=2.11->tensorflow-macos) (3.13.0)\n",
      "Requirement already satisfied: pyasn1<0.5.0,>=0.4.6 in /Users/thanseef/opt/miniconda3/envs/face_recog/lib/python3.9/site-packages (from pyasn1-modules>=0.2.1->google-auth<3,>=1.6.3->tensorboard<2.12,>=2.11->tensorflow-macos) (0.4.8)\n",
      "Requirement already satisfied: oauthlib>=3.0.0 in /Users/thanseef/opt/miniconda3/envs/face_recog/lib/python3.9/site-packages (from requests-oauthlib>=0.7.0->google-auth-oauthlib<0.5,>=0.4.1->tensorboard<2.12,>=2.11->tensorflow-macos) (3.2.2)\n",
      "Installing collected packages: pyparsing, pillow, opencv-python, kiwisolver, fonttools, cycler, contourpy, matplotlib\n",
      "Successfully installed contourpy-1.0.7 cycler-0.11.0 fonttools-4.38.0 kiwisolver-1.4.4 matplotlib-3.6.3 opencv-python-4.7.0.68 pillow-9.4.0 pyparsing-3.0.9\n"
     ]
    }
   ],
   "source": [
    "!pip install opencv-python matplotlib tensorflow-macos\n",
    "\n",
    "#tensorflow~=2.6.0 and tensorflow-gpu==2.6.0 for non mac users"
   ]
  },
  {
   "attachments": {},
   "cell_type": "markdown",
   "metadata": {},
   "source": [
    "## Importing Libraries"
   ]
  },
  {
   "cell_type": "code",
   "execution_count": 5,
   "metadata": {},
   "outputs": [],
   "source": [
    "import numpy as np\n",
    "import cv2\n",
    "import os\n",
    "import random\n",
    "import matplotlib.pyplot as plt\n",
    "import tensorflow as tf\n",
    "from tensorflow.keras.models import Model\n",
    "from tensorflow.keras.layers import Layer, Conv2D, Dense, MaxPooling2D, Input, Flatten"
   ]
  },
  {
   "cell_type": "code",
   "execution_count": 6,
   "metadata": {},
   "outputs": [],
   "source": [
    "# Input & Output Model Look Like\n",
    "#Model(input=[inputimgage, verificationImage], output=[1,0])"
   ]
  },
  {
   "cell_type": "code",
   "execution_count": null,
   "metadata": {},
   "outputs": [],
   "source": []
  }
 ],
 "metadata": {
  "kernelspec": {
   "display_name": "face_recog",
   "language": "python",
   "name": "python3"
  },
  "language_info": {
   "codemirror_mode": {
    "name": "ipython",
    "version": 3
   },
   "file_extension": ".py",
   "mimetype": "text/x-python",
   "name": "python",
   "nbconvert_exporter": "python",
   "pygments_lexer": "ipython3",
   "version": "3.9.16"
  },
  "orig_nbformat": 4,
  "vscode": {
   "interpreter": {
    "hash": "10ec5cd28ee679b377b4b1863ddcfba261f0456be392b27da1124e5c1b20c469"
   }
  }
 },
 "nbformat": 4,
 "nbformat_minor": 2
}
